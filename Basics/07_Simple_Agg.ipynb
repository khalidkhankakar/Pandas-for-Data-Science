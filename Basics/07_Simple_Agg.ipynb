{
 "cells": [
  {
   "cell_type": "markdown",
   "id": "1604468e",
   "metadata": {},
   "source": [
    "### Simple calculations and aggregations"
   ]
  },
  {
   "cell_type": "code",
   "execution_count": 4,
   "id": "a2ba5bd5",
   "metadata": {},
   "outputs": [],
   "source": [
    "import pandas as pd"
   ]
  },
  {
   "cell_type": "code",
   "execution_count": 5,
   "id": "a63f353e",
   "metadata": {},
   "outputs": [],
   "source": [
    "df = pd.read_csv('mtcars.csv')"
   ]
  },
  {
   "cell_type": "markdown",
   "id": "9acdfe33",
   "metadata": {},
   "source": [
    " #### Basic Column Calculations"
   ]
  },
  {
   "cell_type": "code",
   "execution_count": 9,
   "id": "be40b330",
   "metadata": {},
   "outputs": [
    {
     "name": "stdout",
     "output_type": "stream",
     "text": [
      "20.090625000000003\n",
      "335\n",
      "52\n",
      "4694\n"
     ]
    }
   ],
   "source": [
    "# Average mpg\n",
    "print(df['mpg'].mean())  \n",
    "\n",
    "# Maximum in hp\n",
    "print(df['hp'].max())\n",
    "\n",
    "# Minimum in hp\n",
    "print(df['hp'].min())\n",
    "\n",
    "# Sum in hp\n",
    "print(df['hp'].sum())"
   ]
  }
 ],
 "metadata": {
  "kernelspec": {
   "display_name": "venv",
   "language": "python",
   "name": "python3"
  },
  "language_info": {
   "codemirror_mode": {
    "name": "ipython",
    "version": 3
   },
   "file_extension": ".py",
   "mimetype": "text/x-python",
   "name": "python",
   "nbconvert_exporter": "python",
   "pygments_lexer": "ipython3",
   "version": "3.13.1"
  }
 },
 "nbformat": 4,
 "nbformat_minor": 5
}
