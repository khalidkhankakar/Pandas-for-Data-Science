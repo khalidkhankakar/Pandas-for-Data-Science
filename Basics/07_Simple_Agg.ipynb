{
 "cells": [
  {
   "cell_type": "markdown",
   "id": "1604468e",
   "metadata": {},
   "source": [
    "### Simple calculations and aggregations"
   ]
  },
  {
   "cell_type": "code",
   "execution_count": 4,
   "id": "a2ba5bd5",
   "metadata": {},
   "outputs": [],
   "source": [
    "import pandas as pd"
   ]
  },
  {
   "cell_type": "code",
   "execution_count": 5,
   "id": "a63f353e",
   "metadata": {},
   "outputs": [],
   "source": [
    "df = pd.read_csv('mtcars.csv')"
   ]
  },
  {
   "cell_type": "markdown",
   "id": "9acdfe33",
   "metadata": {},
   "source": [
    " #### Basic Column Calculations"
   ]
  },
  {
   "cell_type": "code",
   "execution_count": 9,
   "id": "be40b330",
   "metadata": {},
   "outputs": [
    {
     "name": "stdout",
     "output_type": "stream",
     "text": [
      "20.090625000000003\n",
      "335\n",
      "52\n",
      "4694\n"
     ]
    }
   ],
   "source": [
    "# Average mpg\n",
    "print(df['mpg'].mean())  \n",
    "\n",
    "# Maximum in hp\n",
    "print(df['hp'].max())\n",
    "\n",
    "# Minimum in hp\n",
    "print(df['hp'].min())\n",
    "\n",
    "# Sum in hp\n",
    "print(df['hp'].sum())"
   ]
  },
  {
   "cell_type": "markdown",
   "id": "140240b5",
   "metadata": {},
   "source": [
    "#### Apply multiple aggregations to one or more columns"
   ]
  },
  {
   "cell_type": "code",
   "execution_count": 10,
   "id": "90cbae24",
   "metadata": {},
   "outputs": [
    {
     "data": {
      "text/html": [
       "<div>\n",
       "<style scoped>\n",
       "    .dataframe tbody tr th:only-of-type {\n",
       "        vertical-align: middle;\n",
       "    }\n",
       "\n",
       "    .dataframe tbody tr th {\n",
       "        vertical-align: top;\n",
       "    }\n",
       "\n",
       "    .dataframe thead th {\n",
       "        text-align: right;\n",
       "    }\n",
       "</style>\n",
       "<table border=\"1\" class=\"dataframe\">\n",
       "  <thead>\n",
       "    <tr style=\"text-align: right;\">\n",
       "      <th></th>\n",
       "      <th>mpg</th>\n",
       "      <th>hp</th>\n",
       "    </tr>\n",
       "  </thead>\n",
       "  <tbody>\n",
       "    <tr>\n",
       "      <th>mean</th>\n",
       "      <td>20.090625</td>\n",
       "      <td>146.6875</td>\n",
       "    </tr>\n",
       "    <tr>\n",
       "      <th>median</th>\n",
       "      <td>19.200000</td>\n",
       "      <td>123.0000</td>\n",
       "    </tr>\n",
       "    <tr>\n",
       "      <th>max</th>\n",
       "      <td>33.900000</td>\n",
       "      <td>335.0000</td>\n",
       "    </tr>\n",
       "    <tr>\n",
       "      <th>min</th>\n",
       "      <td>10.400000</td>\n",
       "      <td>52.0000</td>\n",
       "    </tr>\n",
       "    <tr>\n",
       "      <th>sum</th>\n",
       "      <td>642.900000</td>\n",
       "      <td>4694.0000</td>\n",
       "    </tr>\n",
       "  </tbody>\n",
       "</table>\n",
       "</div>"
      ],
      "text/plain": [
       "               mpg         hp\n",
       "mean     20.090625   146.6875\n",
       "median   19.200000   123.0000\n",
       "max      33.900000   335.0000\n",
       "min      10.400000    52.0000\n",
       "sum     642.900000  4694.0000"
      ]
     },
     "execution_count": 10,
     "metadata": {},
     "output_type": "execute_result"
    }
   ],
   "source": [
    "df[['mpg', 'hp']].agg(['mean', 'median', 'max', 'min', 'sum'])"
   ]
  },
  {
   "cell_type": "markdown",
   "id": "cd8f25f6",
   "metadata": {},
   "source": [
    "#### Create New Calculated Column"
   ]
  },
  {
   "cell_type": "code",
   "execution_count": 14,
   "id": "dc814117",
   "metadata": {},
   "outputs": [
    {
     "name": "stdout",
     "output_type": "stream",
     "text": [
      "     mpg   hp  hp_per_mpg\n",
      "0   21.0  110    5.238095\n",
      "1   21.0  110    5.238095\n",
      "2   22.8   93    4.078947\n",
      "3   21.4  110    5.140187\n",
      "4   18.7  175    9.358289\n",
      "5   18.1  105    5.801105\n",
      "6   14.3  245   17.132867\n",
      "7   24.4   62    2.540984\n",
      "8   22.8   95    4.166667\n",
      "9   19.2  123    6.406250\n",
      "10  17.8  123    6.910112\n",
      "11  16.4  180   10.975610\n",
      "12  17.3  180   10.404624\n",
      "13  15.2  180   11.842105\n",
      "14  10.4  205   19.711538\n",
      "15  10.4  215   20.673077\n",
      "16  14.7  230   15.646259\n",
      "17  32.4   66    2.037037\n",
      "18  30.4   52    1.710526\n",
      "19  33.9   65    1.917404\n",
      "20  21.5   97    4.511628\n",
      "21  15.5  150    9.677419\n",
      "22  15.2  150    9.868421\n",
      "23  13.3  245   18.421053\n",
      "24  19.2  175    9.114583\n",
      "25  27.3   66    2.417582\n",
      "26  26.0   91    3.500000\n",
      "27  30.4  113    3.717105\n",
      "28  15.8  264   16.708861\n",
      "29  19.7  175    8.883249\n",
      "30  15.0  335   22.333333\n",
      "31  21.4  109    5.093458\n"
     ]
    }
   ],
   "source": [
    "df['hp_per_mpg'] = df['hp'] / df['mpg']\n",
    "print(df[['mpg', 'hp', 'hp_per_mpg']])"
   ]
  }
 ],
 "metadata": {
  "kernelspec": {
   "display_name": "venv",
   "language": "python",
   "name": "python3"
  },
  "language_info": {
   "codemirror_mode": {
    "name": "ipython",
    "version": 3
   },
   "file_extension": ".py",
   "mimetype": "text/x-python",
   "name": "python",
   "nbconvert_exporter": "python",
   "pygments_lexer": "ipython3",
   "version": "3.13.1"
  }
 },
 "nbformat": 4,
 "nbformat_minor": 5
}
