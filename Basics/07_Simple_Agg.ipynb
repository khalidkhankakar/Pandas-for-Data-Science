{
 "cells": [
  {
   "cell_type": "markdown",
   "id": "1604468e",
   "metadata": {},
   "source": [
    "### Simple calculations and aggregations"
   ]
  },
  {
   "cell_type": "code",
   "execution_count": 4,
   "id": "a2ba5bd5",
   "metadata": {},
   "outputs": [],
   "source": [
    "import pandas as pd"
   ]
  },
  {
   "cell_type": "code",
   "execution_count": 5,
   "id": "a63f353e",
   "metadata": {},
   "outputs": [],
   "source": [
    "df = pd.read_csv('mtcars.csv')"
   ]
  },
  {
   "cell_type": "markdown",
   "id": "9acdfe33",
   "metadata": {},
   "source": [
    " #### Basic Column Calculations"
   ]
  },
  {
   "cell_type": "code",
   "execution_count": 9,
   "id": "be40b330",
   "metadata": {},
   "outputs": [
    {
     "name": "stdout",
     "output_type": "stream",
     "text": [
      "20.090625000000003\n",
      "335\n",
      "52\n",
      "4694\n"
     ]
    }
   ],
   "source": [
    "# Average mpg\n",
    "print(df['mpg'].mean())  \n",
    "\n",
    "# Maximum in hp\n",
    "print(df['hp'].max())\n",
    "\n",
    "# Minimum in hp\n",
    "print(df['hp'].min())\n",
    "\n",
    "# Sum in hp\n",
    "print(df['hp'].sum())"
   ]
  },
  {
   "cell_type": "markdown",
   "id": "140240b5",
   "metadata": {},
   "source": [
    "#### Apply multiple aggregations to one or more columns"
   ]
  },
  {
   "cell_type": "code",
   "execution_count": 10,
   "id": "90cbae24",
   "metadata": {},
   "outputs": [
    {
     "data": {
      "text/html": [
       "<div>\n",
       "<style scoped>\n",
       "    .dataframe tbody tr th:only-of-type {\n",
       "        vertical-align: middle;\n",
       "    }\n",
       "\n",
       "    .dataframe tbody tr th {\n",
       "        vertical-align: top;\n",
       "    }\n",
       "\n",
       "    .dataframe thead th {\n",
       "        text-align: right;\n",
       "    }\n",
       "</style>\n",
       "<table border=\"1\" class=\"dataframe\">\n",
       "  <thead>\n",
       "    <tr style=\"text-align: right;\">\n",
       "      <th></th>\n",
       "      <th>mpg</th>\n",
       "      <th>hp</th>\n",
       "    </tr>\n",
       "  </thead>\n",
       "  <tbody>\n",
       "    <tr>\n",
       "      <th>mean</th>\n",
       "      <td>20.090625</td>\n",
       "      <td>146.6875</td>\n",
       "    </tr>\n",
       "    <tr>\n",
       "      <th>median</th>\n",
       "      <td>19.200000</td>\n",
       "      <td>123.0000</td>\n",
       "    </tr>\n",
       "    <tr>\n",
       "      <th>max</th>\n",
       "      <td>33.900000</td>\n",
       "      <td>335.0000</td>\n",
       "    </tr>\n",
       "    <tr>\n",
       "      <th>min</th>\n",
       "      <td>10.400000</td>\n",
       "      <td>52.0000</td>\n",
       "    </tr>\n",
       "    <tr>\n",
       "      <th>sum</th>\n",
       "      <td>642.900000</td>\n",
       "      <td>4694.0000</td>\n",
       "    </tr>\n",
       "  </tbody>\n",
       "</table>\n",
       "</div>"
      ],
      "text/plain": [
       "               mpg         hp\n",
       "mean     20.090625   146.6875\n",
       "median   19.200000   123.0000\n",
       "max      33.900000   335.0000\n",
       "min      10.400000    52.0000\n",
       "sum     642.900000  4694.0000"
      ]
     },
     "execution_count": 10,
     "metadata": {},
     "output_type": "execute_result"
    }
   ],
   "source": [
    "df[['mpg', 'hp']].agg(['mean', 'median', 'max', 'min', 'sum'])"
   ]
  }
 ],
 "metadata": {
  "kernelspec": {
   "display_name": "venv",
   "language": "python",
   "name": "python3"
  },
  "language_info": {
   "codemirror_mode": {
    "name": "ipython",
    "version": 3
   },
   "file_extension": ".py",
   "mimetype": "text/x-python",
   "name": "python",
   "nbconvert_exporter": "python",
   "pygments_lexer": "ipython3",
   "version": "3.13.1"
  }
 },
 "nbformat": 4,
 "nbformat_minor": 5
}
