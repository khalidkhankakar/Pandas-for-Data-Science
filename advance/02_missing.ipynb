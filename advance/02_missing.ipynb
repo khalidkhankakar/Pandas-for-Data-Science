{
 "cells": [
  {
   "cell_type": "code",
   "execution_count": 1,
   "id": "2a11679e",
   "metadata": {},
   "outputs": [],
   "source": [
    "import numpy as np\n",
    "import pandas as pd"
   ]
  },
  {
   "cell_type": "code",
   "execution_count": 2,
   "id": "2338ab98",
   "metadata": {},
   "outputs": [
    {
     "data": {
      "application/vnd.microsoft.datawrangler.viewer.v0+json": {
       "columns": [
        {
         "name": "index",
         "rawType": "int64",
         "type": "integer"
        },
        {
         "name": "Name",
         "rawType": "object",
         "type": "unknown"
        },
        {
         "name": "Age",
         "rawType": "float64",
         "type": "float"
        },
        {
         "name": "Gender",
         "rawType": "object",
         "type": "unknown"
        },
        {
         "name": "City",
         "rawType": "object",
         "type": "unknown"
        },
        {
         "name": "Salary",
         "rawType": "float64",
         "type": "float"
        }
       ],
       "ref": "fd2cd382-a80c-4f9e-815d-3dd484d44185",
       "rows": [
        [
         "0",
         "Alice",
         "25.0",
         "F",
         "New York",
         "70000.0"
        ],
        [
         "1",
         "Bob",
         "30.0",
         "M",
         "Los Angeles",
         null
        ],
        [
         "2",
         "Charlie",
         null,
         "M",
         null,
         "80000.0"
        ],
        [
         "3",
         "David",
         "22.0",
         null,
         "Chicago",
         "60000.0"
        ],
        [
         "4",
         "Eva",
         "28.0",
         "F",
         "Houston",
         "75000.0"
        ],
        [
         "5",
         null,
         "35.0",
         "F",
         "Phoenix",
         "90000.0"
        ],
        [
         "6",
         "Grace",
         "40.0",
         "F",
         "Philadelphia",
         null
        ],
        [
         "7",
         "Henry",
         null,
         "M",
         "San Antonio",
         "85000.0"
        ],
        [
         "8",
         "Ivy",
         "27.0",
         null,
         "San Diego",
         "72000.0"
        ],
        [
         "9",
         "Jack",
         "31.0",
         "M",
         null,
         "78000.0"
        ]
       ],
       "shape": {
        "columns": 5,
        "rows": 10
       }
      },
      "text/html": [
       "<div>\n",
       "<style scoped>\n",
       "    .dataframe tbody tr th:only-of-type {\n",
       "        vertical-align: middle;\n",
       "    }\n",
       "\n",
       "    .dataframe tbody tr th {\n",
       "        vertical-align: top;\n",
       "    }\n",
       "\n",
       "    .dataframe thead th {\n",
       "        text-align: right;\n",
       "    }\n",
       "</style>\n",
       "<table border=\"1\" class=\"dataframe\">\n",
       "  <thead>\n",
       "    <tr style=\"text-align: right;\">\n",
       "      <th></th>\n",
       "      <th>Name</th>\n",
       "      <th>Age</th>\n",
       "      <th>Gender</th>\n",
       "      <th>City</th>\n",
       "      <th>Salary</th>\n",
       "    </tr>\n",
       "  </thead>\n",
       "  <tbody>\n",
       "    <tr>\n",
       "      <th>0</th>\n",
       "      <td>Alice</td>\n",
       "      <td>25.0</td>\n",
       "      <td>F</td>\n",
       "      <td>New York</td>\n",
       "      <td>70000.0</td>\n",
       "    </tr>\n",
       "    <tr>\n",
       "      <th>1</th>\n",
       "      <td>Bob</td>\n",
       "      <td>30.0</td>\n",
       "      <td>M</td>\n",
       "      <td>Los Angeles</td>\n",
       "      <td>NaN</td>\n",
       "    </tr>\n",
       "    <tr>\n",
       "      <th>2</th>\n",
       "      <td>Charlie</td>\n",
       "      <td>NaN</td>\n",
       "      <td>M</td>\n",
       "      <td>None</td>\n",
       "      <td>80000.0</td>\n",
       "    </tr>\n",
       "    <tr>\n",
       "      <th>3</th>\n",
       "      <td>David</td>\n",
       "      <td>22.0</td>\n",
       "      <td>None</td>\n",
       "      <td>Chicago</td>\n",
       "      <td>60000.0</td>\n",
       "    </tr>\n",
       "    <tr>\n",
       "      <th>4</th>\n",
       "      <td>Eva</td>\n",
       "      <td>28.0</td>\n",
       "      <td>F</td>\n",
       "      <td>Houston</td>\n",
       "      <td>75000.0</td>\n",
       "    </tr>\n",
       "    <tr>\n",
       "      <th>5</th>\n",
       "      <td>None</td>\n",
       "      <td>35.0</td>\n",
       "      <td>F</td>\n",
       "      <td>Phoenix</td>\n",
       "      <td>90000.0</td>\n",
       "    </tr>\n",
       "    <tr>\n",
       "      <th>6</th>\n",
       "      <td>Grace</td>\n",
       "      <td>40.0</td>\n",
       "      <td>F</td>\n",
       "      <td>Philadelphia</td>\n",
       "      <td>NaN</td>\n",
       "    </tr>\n",
       "    <tr>\n",
       "      <th>7</th>\n",
       "      <td>Henry</td>\n",
       "      <td>NaN</td>\n",
       "      <td>M</td>\n",
       "      <td>San Antonio</td>\n",
       "      <td>85000.0</td>\n",
       "    </tr>\n",
       "    <tr>\n",
       "      <th>8</th>\n",
       "      <td>Ivy</td>\n",
       "      <td>27.0</td>\n",
       "      <td>None</td>\n",
       "      <td>San Diego</td>\n",
       "      <td>72000.0</td>\n",
       "    </tr>\n",
       "    <tr>\n",
       "      <th>9</th>\n",
       "      <td>Jack</td>\n",
       "      <td>31.0</td>\n",
       "      <td>M</td>\n",
       "      <td>None</td>\n",
       "      <td>78000.0</td>\n",
       "    </tr>\n",
       "  </tbody>\n",
       "</table>\n",
       "</div>"
      ],
      "text/plain": [
       "      Name   Age Gender          City   Salary\n",
       "0    Alice  25.0      F      New York  70000.0\n",
       "1      Bob  30.0      M   Los Angeles      NaN\n",
       "2  Charlie   NaN      M          None  80000.0\n",
       "3    David  22.0   None       Chicago  60000.0\n",
       "4      Eva  28.0      F       Houston  75000.0\n",
       "5     None  35.0      F       Phoenix  90000.0\n",
       "6    Grace  40.0      F  Philadelphia      NaN\n",
       "7    Henry   NaN      M   San Antonio  85000.0\n",
       "8      Ivy  27.0   None     San Diego  72000.0\n",
       "9     Jack  31.0      M          None  78000.0"
      ]
     },
     "execution_count": 2,
     "metadata": {},
     "output_type": "execute_result"
    }
   ],
   "source": [
    "data = {\n",
    "    'Name': ['Alice', 'Bob', 'Charlie', 'David', 'Eva', None, 'Grace', 'Henry', 'Ivy', 'Jack'],\n",
    "    'Age': [25, 30, None, 22, 28, 35, 40, None, 27, 31],\n",
    "    'Gender': ['F', 'M', 'M', None, 'F', 'F', 'F', 'M', None, 'M'],\n",
    "    'City': ['New York', 'Los Angeles', None, 'Chicago', 'Houston', 'Phoenix', 'Philadelphia', 'San Antonio', 'San Diego', None],\n",
    "    'Salary': [70000, None, 80000, 60000, 75000, 90000, None, 85000, 72000, 78000]\n",
    "}\n",
    "\n",
    "df = pd.DataFrame(data)\n",
    "df"
   ]
  },
  {
   "cell_type": "code",
   "execution_count": 7,
   "id": "639fc309",
   "metadata": {},
   "outputs": [
    {
     "data": {
      "application/vnd.microsoft.datawrangler.viewer.v0+json": {
       "columns": [
        {
         "name": "index",
         "rawType": "object",
         "type": "string"
        },
        {
         "name": "0",
         "rawType": "bool",
         "type": "boolean"
        }
       ],
       "ref": "2ecceef7-ce96-4f4f-88af-033c1d3a5817",
       "rows": [
        [
         "Name",
         "True"
        ],
        [
         "Age",
         "True"
        ],
        [
         "Gender",
         "True"
        ],
        [
         "City",
         "True"
        ],
        [
         "Salary",
         "True"
        ]
       ],
       "shape": {
        "columns": 1,
        "rows": 5
       }
      },
      "text/plain": [
       "Name      True\n",
       "Age       True\n",
       "Gender    True\n",
       "City      True\n",
       "Salary    True\n",
       "dtype: bool"
      ]
     },
     "execution_count": 7,
     "metadata": {},
     "output_type": "execute_result"
    }
   ],
   "source": [
    "df.isna()\n",
    "df.isna().sum()\n",
    "df.isna().sum().sum()\n",
    "df.isna().any()"
   ]
  },
  {
   "cell_type": "code",
   "execution_count": null,
   "id": "fe140a1e",
   "metadata": {},
   "outputs": [
    {
     "data": {
      "application/vnd.microsoft.datawrangler.viewer.v0+json": {
       "columns": [
        {
         "name": "index",
         "rawType": "int64",
         "type": "integer"
        },
        {
         "name": "Name",
         "rawType": "object",
         "type": "unknown"
        },
        {
         "name": "Age",
         "rawType": "float64",
         "type": "float"
        },
        {
         "name": "Gender",
         "rawType": "object",
         "type": "unknown"
        },
        {
         "name": "City",
         "rawType": "object",
         "type": "unknown"
        },
        {
         "name": "Salary",
         "rawType": "float64",
         "type": "float"
        }
       ],
       "ref": "355d8521-086c-4614-9885-62cbd8255e7f",
       "rows": [
        [
         "0",
         "Alice",
         "25.0",
         "F",
         "New York",
         "70000.0"
        ],
        [
         "1",
         "Bob",
         "30.0",
         "M",
         "Los Angeles",
         null
        ],
        [
         "2",
         "Charlie",
         null,
         "M",
         null,
         "80000.0"
        ],
        [
         "3",
         "David",
         "22.0",
         null,
         "Chicago",
         "60000.0"
        ],
        [
         "4",
         "Eva",
         "28.0",
         "F",
         "Houston",
         "75000.0"
        ],
        [
         "5",
         null,
         "35.0",
         "F",
         "Phoenix",
         "90000.0"
        ],
        [
         "6",
         "Grace",
         "40.0",
         "F",
         "Philadelphia",
         null
        ],
        [
         "7",
         "Henry",
         null,
         "M",
         "San Antonio",
         "85000.0"
        ],
        [
         "8",
         "Ivy",
         "27.0",
         null,
         "San Diego",
         "72000.0"
        ],
        [
         "9",
         "Jack",
         "31.0",
         "M",
         null,
         "78000.0"
        ]
       ],
       "shape": {
        "columns": 5,
        "rows": 10
       }
      },
      "text/html": [
       "<div>\n",
       "<style scoped>\n",
       "    .dataframe tbody tr th:only-of-type {\n",
       "        vertical-align: middle;\n",
       "    }\n",
       "\n",
       "    .dataframe tbody tr th {\n",
       "        vertical-align: top;\n",
       "    }\n",
       "\n",
       "    .dataframe thead th {\n",
       "        text-align: right;\n",
       "    }\n",
       "</style>\n",
       "<table border=\"1\" class=\"dataframe\">\n",
       "  <thead>\n",
       "    <tr style=\"text-align: right;\">\n",
       "      <th></th>\n",
       "      <th>Name</th>\n",
       "      <th>Age</th>\n",
       "      <th>Gender</th>\n",
       "      <th>City</th>\n",
       "      <th>Salary</th>\n",
       "    </tr>\n",
       "  </thead>\n",
       "  <tbody>\n",
       "    <tr>\n",
       "      <th>0</th>\n",
       "      <td>Alice</td>\n",
       "      <td>25.0</td>\n",
       "      <td>F</td>\n",
       "      <td>New York</td>\n",
       "      <td>70000.0</td>\n",
       "    </tr>\n",
       "    <tr>\n",
       "      <th>1</th>\n",
       "      <td>Bob</td>\n",
       "      <td>30.0</td>\n",
       "      <td>M</td>\n",
       "      <td>Los Angeles</td>\n",
       "      <td>NaN</td>\n",
       "    </tr>\n",
       "    <tr>\n",
       "      <th>2</th>\n",
       "      <td>Charlie</td>\n",
       "      <td>NaN</td>\n",
       "      <td>M</td>\n",
       "      <td>None</td>\n",
       "      <td>80000.0</td>\n",
       "    </tr>\n",
       "    <tr>\n",
       "      <th>3</th>\n",
       "      <td>David</td>\n",
       "      <td>22.0</td>\n",
       "      <td>None</td>\n",
       "      <td>Chicago</td>\n",
       "      <td>60000.0</td>\n",
       "    </tr>\n",
       "    <tr>\n",
       "      <th>4</th>\n",
       "      <td>Eva</td>\n",
       "      <td>28.0</td>\n",
       "      <td>F</td>\n",
       "      <td>Houston</td>\n",
       "      <td>75000.0</td>\n",
       "    </tr>\n",
       "    <tr>\n",
       "      <th>5</th>\n",
       "      <td>None</td>\n",
       "      <td>35.0</td>\n",
       "      <td>F</td>\n",
       "      <td>Phoenix</td>\n",
       "      <td>90000.0</td>\n",
       "    </tr>\n",
       "    <tr>\n",
       "      <th>6</th>\n",
       "      <td>Grace</td>\n",
       "      <td>40.0</td>\n",
       "      <td>F</td>\n",
       "      <td>Philadelphia</td>\n",
       "      <td>NaN</td>\n",
       "    </tr>\n",
       "    <tr>\n",
       "      <th>7</th>\n",
       "      <td>Henry</td>\n",
       "      <td>NaN</td>\n",
       "      <td>M</td>\n",
       "      <td>San Antonio</td>\n",
       "      <td>85000.0</td>\n",
       "    </tr>\n",
       "    <tr>\n",
       "      <th>8</th>\n",
       "      <td>Ivy</td>\n",
       "      <td>27.0</td>\n",
       "      <td>None</td>\n",
       "      <td>San Diego</td>\n",
       "      <td>72000.0</td>\n",
       "    </tr>\n",
       "    <tr>\n",
       "      <th>9</th>\n",
       "      <td>Jack</td>\n",
       "      <td>31.0</td>\n",
       "      <td>M</td>\n",
       "      <td>None</td>\n",
       "      <td>78000.0</td>\n",
       "    </tr>\n",
       "  </tbody>\n",
       "</table>\n",
       "</div>"
      ],
      "text/plain": [
       "      Name   Age Gender          City   Salary\n",
       "0    Alice  25.0      F      New York  70000.0\n",
       "1      Bob  30.0      M   Los Angeles      NaN\n",
       "2  Charlie   NaN      M          None  80000.0\n",
       "3    David  22.0   None       Chicago  60000.0\n",
       "4      Eva  28.0      F       Houston  75000.0\n",
       "5     None  35.0      F       Phoenix  90000.0\n",
       "6    Grace  40.0      F  Philadelphia      NaN\n",
       "7    Henry   NaN      M   San Antonio  85000.0\n",
       "8      Ivy  27.0   None     San Diego  72000.0\n",
       "9     Jack  31.0      M          None  78000.0"
      ]
     },
     "execution_count": 9,
     "metadata": {},
     "output_type": "execute_result"
    }
   ],
   "source": [
    "df.dropna()\n",
    "df.dropna(thresh=3) # Keep rows with at least 3 non-NA values\n"
   ]
  }
 ],
 "metadata": {
  "kernelspec": {
   "display_name": "venv",
   "language": "python",
   "name": "python3"
  },
  "language_info": {
   "codemirror_mode": {
    "name": "ipython",
    "version": 3
   },
   "file_extension": ".py",
   "mimetype": "text/x-python",
   "name": "python",
   "nbconvert_exporter": "python",
   "pygments_lexer": "ipython3",
   "version": "3.13.1"
  }
 },
 "nbformat": 4,
 "nbformat_minor": 5
}
