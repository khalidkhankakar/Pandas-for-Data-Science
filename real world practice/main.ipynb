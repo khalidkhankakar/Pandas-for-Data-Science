{
 "cells": [
  {
   "cell_type": "markdown",
   "id": "dfaa661c",
   "metadata": {},
   "source": [
    "## Practicing real world examples\n"
   ]
  },
  {
   "cell_type": "code",
   "execution_count": 1,
   "id": "4cbd18da",
   "metadata": {},
   "outputs": [],
   "source": [
    "import pandas as pd\n",
    "import numpy as np"
   ]
  },
  {
   "cell_type": "markdown",
   "id": "1a644e84",
   "metadata": {},
   "source": [
    "1. Get the Dataset\n"
   ]
  },
  {
   "cell_type": "code",
   "execution_count": null,
   "id": "1db08ecb",
   "metadata": {},
   "outputs": [],
   "source": [
    "cars = pd.read_csv('./mtcars.csv') # load the dataset"
   ]
  },
  {
   "cell_type": "markdown",
   "id": "65f96130",
   "metadata": {},
   "source": [
    "2. Look at the Data Structure\n"
   ]
  },
  {
   "cell_type": "code",
   "execution_count": 11,
   "id": "12b61db7",
   "metadata": {},
   "outputs": [
    {
     "data": {
      "application/vnd.microsoft.datawrangler.viewer.v0+json": {
       "columns": [
        {
         "name": "index",
         "rawType": "int64",
         "type": "integer"
        },
        {
         "name": "model",
         "rawType": "object",
         "type": "string"
        },
        {
         "name": "mpg",
         "rawType": "float64",
         "type": "float"
        },
        {
         "name": "cyl",
         "rawType": "int64",
         "type": "integer"
        },
        {
         "name": "disp",
         "rawType": "float64",
         "type": "float"
        },
        {
         "name": "hp",
         "rawType": "int64",
         "type": "integer"
        },
        {
         "name": "drat",
         "rawType": "float64",
         "type": "float"
        },
        {
         "name": "wt",
         "rawType": "float64",
         "type": "float"
        },
        {
         "name": "qsec",
         "rawType": "float64",
         "type": "float"
        },
        {
         "name": "vs",
         "rawType": "int64",
         "type": "integer"
        },
        {
         "name": "am",
         "rawType": "int64",
         "type": "integer"
        },
        {
         "name": "gear",
         "rawType": "int64",
         "type": "integer"
        },
        {
         "name": "carb",
         "rawType": "int64",
         "type": "integer"
        }
       ],
       "conversionMethod": "pd.DataFrame",
       "ref": "e42b1d62-5167-4fbe-9722-753d208b66fe",
       "rows": [
        [
         "0",
         "Mazda RX4",
         "21.0",
         "6",
         "160.0",
         "110",
         "3.9",
         "2.62",
         "16.46",
         "0",
         "1",
         "4",
         "4"
        ],
        [
         "1",
         "Mazda RX4 Wag",
         "21.0",
         "6",
         "160.0",
         "110",
         "3.9",
         "2.875",
         "17.02",
         "0",
         "1",
         "4",
         "4"
        ],
        [
         "2",
         "Datsun 710",
         "22.8",
         "4",
         "108.0",
         "93",
         "3.85",
         "2.32",
         "18.61",
         "1",
         "1",
         "4",
         "1"
        ],
        [
         "3",
         "Hornet 4 Drive",
         "21.4",
         "6",
         "258.0",
         "110",
         "3.08",
         "3.215",
         "19.44",
         "1",
         "0",
         "3",
         "1"
        ],
        [
         "4",
         "Hornet Sportabout",
         "18.7",
         "8",
         "360.0",
         "175",
         "3.15",
         "3.44",
         "17.02",
         "0",
         "0",
         "3",
         "2"
        ]
       ],
       "shape": {
        "columns": 12,
        "rows": 5
       }
      },
      "text/html": [
       "<div>\n",
       "<style scoped>\n",
       "    .dataframe tbody tr th:only-of-type {\n",
       "        vertical-align: middle;\n",
       "    }\n",
       "\n",
       "    .dataframe tbody tr th {\n",
       "        vertical-align: top;\n",
       "    }\n",
       "\n",
       "    .dataframe thead th {\n",
       "        text-align: right;\n",
       "    }\n",
       "</style>\n",
       "<table border=\"1\" class=\"dataframe\">\n",
       "  <thead>\n",
       "    <tr style=\"text-align: right;\">\n",
       "      <th></th>\n",
       "      <th>model</th>\n",
       "      <th>mpg</th>\n",
       "      <th>cyl</th>\n",
       "      <th>disp</th>\n",
       "      <th>hp</th>\n",
       "      <th>drat</th>\n",
       "      <th>wt</th>\n",
       "      <th>qsec</th>\n",
       "      <th>vs</th>\n",
       "      <th>am</th>\n",
       "      <th>gear</th>\n",
       "      <th>carb</th>\n",
       "    </tr>\n",
       "  </thead>\n",
       "  <tbody>\n",
       "    <tr>\n",
       "      <th>0</th>\n",
       "      <td>Mazda RX4</td>\n",
       "      <td>21.0</td>\n",
       "      <td>6</td>\n",
       "      <td>160.0</td>\n",
       "      <td>110</td>\n",
       "      <td>3.90</td>\n",
       "      <td>2.620</td>\n",
       "      <td>16.46</td>\n",
       "      <td>0</td>\n",
       "      <td>1</td>\n",
       "      <td>4</td>\n",
       "      <td>4</td>\n",
       "    </tr>\n",
       "    <tr>\n",
       "      <th>1</th>\n",
       "      <td>Mazda RX4 Wag</td>\n",
       "      <td>21.0</td>\n",
       "      <td>6</td>\n",
       "      <td>160.0</td>\n",
       "      <td>110</td>\n",
       "      <td>3.90</td>\n",
       "      <td>2.875</td>\n",
       "      <td>17.02</td>\n",
       "      <td>0</td>\n",
       "      <td>1</td>\n",
       "      <td>4</td>\n",
       "      <td>4</td>\n",
       "    </tr>\n",
       "    <tr>\n",
       "      <th>2</th>\n",
       "      <td>Datsun 710</td>\n",
       "      <td>22.8</td>\n",
       "      <td>4</td>\n",
       "      <td>108.0</td>\n",
       "      <td>93</td>\n",
       "      <td>3.85</td>\n",
       "      <td>2.320</td>\n",
       "      <td>18.61</td>\n",
       "      <td>1</td>\n",
       "      <td>1</td>\n",
       "      <td>4</td>\n",
       "      <td>1</td>\n",
       "    </tr>\n",
       "    <tr>\n",
       "      <th>3</th>\n",
       "      <td>Hornet 4 Drive</td>\n",
       "      <td>21.4</td>\n",
       "      <td>6</td>\n",
       "      <td>258.0</td>\n",
       "      <td>110</td>\n",
       "      <td>3.08</td>\n",
       "      <td>3.215</td>\n",
       "      <td>19.44</td>\n",
       "      <td>1</td>\n",
       "      <td>0</td>\n",
       "      <td>3</td>\n",
       "      <td>1</td>\n",
       "    </tr>\n",
       "    <tr>\n",
       "      <th>4</th>\n",
       "      <td>Hornet Sportabout</td>\n",
       "      <td>18.7</td>\n",
       "      <td>8</td>\n",
       "      <td>360.0</td>\n",
       "      <td>175</td>\n",
       "      <td>3.15</td>\n",
       "      <td>3.440</td>\n",
       "      <td>17.02</td>\n",
       "      <td>0</td>\n",
       "      <td>0</td>\n",
       "      <td>3</td>\n",
       "      <td>2</td>\n",
       "    </tr>\n",
       "  </tbody>\n",
       "</table>\n",
       "</div>"
      ],
      "text/plain": [
       "               model   mpg  cyl   disp   hp  drat     wt   qsec  vs  am  gear  \\\n",
       "0          Mazda RX4  21.0    6  160.0  110  3.90  2.620  16.46   0   1     4   \n",
       "1      Mazda RX4 Wag  21.0    6  160.0  110  3.90  2.875  17.02   0   1     4   \n",
       "2         Datsun 710  22.8    4  108.0   93  3.85  2.320  18.61   1   1     4   \n",
       "3     Hornet 4 Drive  21.4    6  258.0  110  3.08  3.215  19.44   1   0     3   \n",
       "4  Hornet Sportabout  18.7    8  360.0  175  3.15  3.440  17.02   0   0     3   \n",
       "\n",
       "   carb  \n",
       "0     4  \n",
       "1     4  \n",
       "2     1  \n",
       "3     1  \n",
       "4     2  "
      ]
     },
     "execution_count": 11,
     "metadata": {},
     "output_type": "execute_result"
    }
   ],
   "source": [
    "cars.head() # Quick look of dataset"
   ]
  },
  {
   "cell_type": "code",
   "execution_count": 39,
   "id": "a52c5db4",
   "metadata": {},
   "outputs": [
    {
     "name": "stdout",
     "output_type": "stream",
     "text": [
      "<class 'pandas.core.frame.DataFrame'>\n",
      "RangeIndex: 32 entries, 0 to 31\n",
      "Data columns (total 12 columns):\n",
      " #   Column  Non-Null Count  Dtype  \n",
      "---  ------  --------------  -----  \n",
      " 0   model   32 non-null     object \n",
      " 1   mpg     32 non-null     float64\n",
      " 2   cyl     32 non-null     int64  \n",
      " 3   disp    32 non-null     float64\n",
      " 4   hp      32 non-null     int64  \n",
      " 5   drat    32 non-null     float64\n",
      " 6   wt      32 non-null     float64\n",
      " 7   qsec    32 non-null     float64\n",
      " 8   vs      32 non-null     int64  \n",
      " 9   am      32 non-null     int64  \n",
      " 10  gear    32 non-null     int64  \n",
      " 11  carb    32 non-null     int64  \n",
      "dtypes: float64(5), int64(6), object(1)\n",
      "memory usage: 3.1+ KB\n"
     ]
    }
   ],
   "source": [
    "cars.info()"
   ]
  },
  {
   "cell_type": "code",
   "execution_count": 14,
   "id": "ddf98dfc",
   "metadata": {},
   "outputs": [
    {
     "data": {
      "text/plain": [
       "model\n",
       "Mazda RX4            1\n",
       "Mazda RX4 Wag        1\n",
       "Datsun 710           1\n",
       "Hornet 4 Drive       1\n",
       "Hornet Sportabout    1\n",
       "Name: count, dtype: int64"
      ]
     },
     "execution_count": 14,
     "metadata": {},
     "output_type": "execute_result"
    }
   ],
   "source": [
    "cars['model'].value_counts().head()"
   ]
  },
  {
   "cell_type": "code",
   "execution_count": 15,
   "id": "90bfc20e",
   "metadata": {},
   "outputs": [
    {
     "data": {
      "application/vnd.microsoft.datawrangler.viewer.v0+json": {
       "columns": [
        {
         "name": "index",
         "rawType": "object",
         "type": "string"
        },
        {
         "name": "mpg",
         "rawType": "float64",
         "type": "float"
        },
        {
         "name": "cyl",
         "rawType": "float64",
         "type": "float"
        },
        {
         "name": "disp",
         "rawType": "float64",
         "type": "float"
        },
        {
         "name": "hp",
         "rawType": "float64",
         "type": "float"
        },
        {
         "name": "drat",
         "rawType": "float64",
         "type": "float"
        },
        {
         "name": "wt",
         "rawType": "float64",
         "type": "float"
        },
        {
         "name": "qsec",
         "rawType": "float64",
         "type": "float"
        },
        {
         "name": "vs",
         "rawType": "float64",
         "type": "float"
        },
        {
         "name": "am",
         "rawType": "float64",
         "type": "float"
        },
        {
         "name": "gear",
         "rawType": "float64",
         "type": "float"
        },
        {
         "name": "carb",
         "rawType": "float64",
         "type": "float"
        }
       ],
       "conversionMethod": "pd.DataFrame",
       "ref": "70adce92-e84a-4afb-b0d0-9898a3ca8391",
       "rows": [
        [
         "count",
         "32.0",
         "32.0",
         "32.0",
         "32.0",
         "32.0",
         "32.0",
         "32.0",
         "32.0",
         "32.0",
         "32.0",
         "32.0"
        ],
        [
         "mean",
         "20.090625000000003",
         "6.1875",
         "230.72187499999998",
         "146.6875",
         "3.5965625",
         "3.2172500000000004",
         "17.848750000000003",
         "0.4375",
         "0.40625",
         "3.6875",
         "2.8125"
        ],
        [
         "std",
         "6.026948052089104",
         "1.7859216469465444",
         "123.93869383138194",
         "68.56286848932059",
         "0.5346787360709715",
         "0.9784574429896966",
         "1.7869432360968431",
         "0.5040161287741853",
         "0.49899091723584604",
         "0.7378040652569471",
         "1.6151999776318522"
        ],
        [
         "min",
         "10.4",
         "4.0",
         "71.1",
         "52.0",
         "2.76",
         "1.513",
         "14.5",
         "0.0",
         "0.0",
         "3.0",
         "1.0"
        ],
        [
         "25%",
         "15.425",
         "4.0",
         "120.825",
         "96.5",
         "3.08",
         "2.58125",
         "16.8925",
         "0.0",
         "0.0",
         "3.0",
         "2.0"
        ],
        [
         "50%",
         "19.2",
         "6.0",
         "196.3",
         "123.0",
         "3.6950000000000003",
         "3.325",
         "17.71",
         "0.0",
         "0.0",
         "4.0",
         "2.0"
        ],
        [
         "75%",
         "22.8",
         "8.0",
         "326.0",
         "180.0",
         "3.92",
         "3.61",
         "18.9",
         "1.0",
         "1.0",
         "4.0",
         "4.0"
        ],
        [
         "max",
         "33.9",
         "8.0",
         "472.0",
         "335.0",
         "4.93",
         "5.424",
         "22.9",
         "1.0",
         "1.0",
         "5.0",
         "8.0"
        ]
       ],
       "shape": {
        "columns": 11,
        "rows": 8
       }
      },
      "text/html": [
       "<div>\n",
       "<style scoped>\n",
       "    .dataframe tbody tr th:only-of-type {\n",
       "        vertical-align: middle;\n",
       "    }\n",
       "\n",
       "    .dataframe tbody tr th {\n",
       "        vertical-align: top;\n",
       "    }\n",
       "\n",
       "    .dataframe thead th {\n",
       "        text-align: right;\n",
       "    }\n",
       "</style>\n",
       "<table border=\"1\" class=\"dataframe\">\n",
       "  <thead>\n",
       "    <tr style=\"text-align: right;\">\n",
       "      <th></th>\n",
       "      <th>mpg</th>\n",
       "      <th>cyl</th>\n",
       "      <th>disp</th>\n",
       "      <th>hp</th>\n",
       "      <th>drat</th>\n",
       "      <th>wt</th>\n",
       "      <th>qsec</th>\n",
       "      <th>vs</th>\n",
       "      <th>am</th>\n",
       "      <th>gear</th>\n",
       "      <th>carb</th>\n",
       "    </tr>\n",
       "  </thead>\n",
       "  <tbody>\n",
       "    <tr>\n",
       "      <th>count</th>\n",
       "      <td>32.000000</td>\n",
       "      <td>32.000000</td>\n",
       "      <td>32.000000</td>\n",
       "      <td>32.000000</td>\n",
       "      <td>32.000000</td>\n",
       "      <td>32.000000</td>\n",
       "      <td>32.000000</td>\n",
       "      <td>32.000000</td>\n",
       "      <td>32.000000</td>\n",
       "      <td>32.000000</td>\n",
       "      <td>32.0000</td>\n",
       "    </tr>\n",
       "    <tr>\n",
       "      <th>mean</th>\n",
       "      <td>20.090625</td>\n",
       "      <td>6.187500</td>\n",
       "      <td>230.721875</td>\n",
       "      <td>146.687500</td>\n",
       "      <td>3.596563</td>\n",
       "      <td>3.217250</td>\n",
       "      <td>17.848750</td>\n",
       "      <td>0.437500</td>\n",
       "      <td>0.406250</td>\n",
       "      <td>3.687500</td>\n",
       "      <td>2.8125</td>\n",
       "    </tr>\n",
       "    <tr>\n",
       "      <th>std</th>\n",
       "      <td>6.026948</td>\n",
       "      <td>1.785922</td>\n",
       "      <td>123.938694</td>\n",
       "      <td>68.562868</td>\n",
       "      <td>0.534679</td>\n",
       "      <td>0.978457</td>\n",
       "      <td>1.786943</td>\n",
       "      <td>0.504016</td>\n",
       "      <td>0.498991</td>\n",
       "      <td>0.737804</td>\n",
       "      <td>1.6152</td>\n",
       "    </tr>\n",
       "    <tr>\n",
       "      <th>min</th>\n",
       "      <td>10.400000</td>\n",
       "      <td>4.000000</td>\n",
       "      <td>71.100000</td>\n",
       "      <td>52.000000</td>\n",
       "      <td>2.760000</td>\n",
       "      <td>1.513000</td>\n",
       "      <td>14.500000</td>\n",
       "      <td>0.000000</td>\n",
       "      <td>0.000000</td>\n",
       "      <td>3.000000</td>\n",
       "      <td>1.0000</td>\n",
       "    </tr>\n",
       "    <tr>\n",
       "      <th>25%</th>\n",
       "      <td>15.425000</td>\n",
       "      <td>4.000000</td>\n",
       "      <td>120.825000</td>\n",
       "      <td>96.500000</td>\n",
       "      <td>3.080000</td>\n",
       "      <td>2.581250</td>\n",
       "      <td>16.892500</td>\n",
       "      <td>0.000000</td>\n",
       "      <td>0.000000</td>\n",
       "      <td>3.000000</td>\n",
       "      <td>2.0000</td>\n",
       "    </tr>\n",
       "    <tr>\n",
       "      <th>50%</th>\n",
       "      <td>19.200000</td>\n",
       "      <td>6.000000</td>\n",
       "      <td>196.300000</td>\n",
       "      <td>123.000000</td>\n",
       "      <td>3.695000</td>\n",
       "      <td>3.325000</td>\n",
       "      <td>17.710000</td>\n",
       "      <td>0.000000</td>\n",
       "      <td>0.000000</td>\n",
       "      <td>4.000000</td>\n",
       "      <td>2.0000</td>\n",
       "    </tr>\n",
       "    <tr>\n",
       "      <th>75%</th>\n",
       "      <td>22.800000</td>\n",
       "      <td>8.000000</td>\n",
       "      <td>326.000000</td>\n",
       "      <td>180.000000</td>\n",
       "      <td>3.920000</td>\n",
       "      <td>3.610000</td>\n",
       "      <td>18.900000</td>\n",
       "      <td>1.000000</td>\n",
       "      <td>1.000000</td>\n",
       "      <td>4.000000</td>\n",
       "      <td>4.0000</td>\n",
       "    </tr>\n",
       "    <tr>\n",
       "      <th>max</th>\n",
       "      <td>33.900000</td>\n",
       "      <td>8.000000</td>\n",
       "      <td>472.000000</td>\n",
       "      <td>335.000000</td>\n",
       "      <td>4.930000</td>\n",
       "      <td>5.424000</td>\n",
       "      <td>22.900000</td>\n",
       "      <td>1.000000</td>\n",
       "      <td>1.000000</td>\n",
       "      <td>5.000000</td>\n",
       "      <td>8.0000</td>\n",
       "    </tr>\n",
       "  </tbody>\n",
       "</table>\n",
       "</div>"
      ],
      "text/plain": [
       "             mpg        cyl        disp          hp       drat         wt  \\\n",
       "count  32.000000  32.000000   32.000000   32.000000  32.000000  32.000000   \n",
       "mean   20.090625   6.187500  230.721875  146.687500   3.596563   3.217250   \n",
       "std     6.026948   1.785922  123.938694   68.562868   0.534679   0.978457   \n",
       "min    10.400000   4.000000   71.100000   52.000000   2.760000   1.513000   \n",
       "25%    15.425000   4.000000  120.825000   96.500000   3.080000   2.581250   \n",
       "50%    19.200000   6.000000  196.300000  123.000000   3.695000   3.325000   \n",
       "75%    22.800000   8.000000  326.000000  180.000000   3.920000   3.610000   \n",
       "max    33.900000   8.000000  472.000000  335.000000   4.930000   5.424000   \n",
       "\n",
       "            qsec         vs         am       gear     carb  \n",
       "count  32.000000  32.000000  32.000000  32.000000  32.0000  \n",
       "mean   17.848750   0.437500   0.406250   3.687500   2.8125  \n",
       "std     1.786943   0.504016   0.498991   0.737804   1.6152  \n",
       "min    14.500000   0.000000   0.000000   3.000000   1.0000  \n",
       "25%    16.892500   0.000000   0.000000   3.000000   2.0000  \n",
       "50%    17.710000   0.000000   0.000000   4.000000   2.0000  \n",
       "75%    18.900000   1.000000   1.000000   4.000000   4.0000  \n",
       "max    22.900000   1.000000   1.000000   5.000000   8.0000  "
      ]
     },
     "execution_count": 15,
     "metadata": {},
     "output_type": "execute_result"
    }
   ],
   "source": [
    "cars.describe()"
   ]
  },
  {
   "cell_type": "markdown",
   "id": "0f85d244",
   "metadata": {},
   "source": [
    "3. Create two sets of Dataset\n",
    "\n",
    "- Training set\n",
    "- Testing set\n"
   ]
  },
  {
   "cell_type": "markdown",
   "id": "33ef54a2",
   "metadata": {},
   "source": [
    "Method 1:\n",
    "Making it manually\n"
   ]
  },
  {
   "cell_type": "code",
   "execution_count": 74,
   "id": "b2f873a2",
   "metadata": {},
   "outputs": [],
   "source": [
    "def split_dataset(df:pd.DataFrame, ratio:float, seed:int=42):\n",
    "    \n",
    "    np.random.seed(seed)\n",
    "\n",
    "    shuffle_indices = np.random.permutation(len(df)) # shuffle the dataset [31,3,5,...]\n",
    "    print(shuffle_indices)\n",
    "    text_set_size = int(len(df) * ratio) # returns 32 * 0.2 = 6.2 => 6 \n",
    "\n",
    "    test_indices = shuffle_indices[:text_set_size] # [0,1,2,3,4,5]\n",
    "    train_indices = shuffle_indices[text_set_size:] # [6,7,8,9,10,...31]\n",
    "\n",
    "    return df.iloc[train_indices], df.iloc[test_indices]"
   ]
  },
  {
   "cell_type": "code",
   "execution_count": 75,
   "id": "8d989917",
   "metadata": {},
   "outputs": [
    {
     "name": "stdout",
     "output_type": "stream",
     "text": [
      "[29 15 24 17  8  9 30 25 12  0  4 16  5 13 11 23  1  2 26  3 21 27 22 18\n",
      " 31 20  7 10 14 28 19  6]\n"
     ]
    }
   ],
   "source": [
    "train_set, test_set = split_dataset(cars, 0.2)"
   ]
  }
 ],
 "metadata": {
  "kernelspec": {
   "display_name": "venv",
   "language": "python",
   "name": "python3"
  },
  "language_info": {
   "codemirror_mode": {
    "name": "ipython",
    "version": 3
   },
   "file_extension": ".py",
   "mimetype": "text/x-python",
   "name": "python",
   "nbconvert_exporter": "python",
   "pygments_lexer": "ipython3",
   "version": "3.13.1"
  }
 },
 "nbformat": 4,
 "nbformat_minor": 5
}
